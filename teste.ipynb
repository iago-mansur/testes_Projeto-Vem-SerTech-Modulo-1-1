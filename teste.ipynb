{
 "cells": [
  {
   "cell_type": "code",
   "execution_count": 1,
   "metadata": {},
   "outputs": [],
   "source": [
    "lista = ['restaurante1', 'restaurante2', 'restaurante3']"
   ]
  },
  {
   "cell_type": "code",
   "execution_count": 2,
   "metadata": {},
   "outputs": [],
   "source": [
    "lista_restaurante_caradapio = [['restaurante1', 'r1c1', 'r1c2', 'r1c3'], ['restaurante2', 'r2c1', 'r2c2', 'r2c3'], ['restaurante3', 'r3c1', 'r3c2', 'r3c3']]"
   ]
  },
  {
   "cell_type": "code",
   "execution_count": null,
   "metadata": {},
   "outputs": [],
   "source": [
    "lista_restaurante_caradapio_2 = [[restaurante]]"
   ]
  },
  {
   "cell_type": "code",
   "execution_count": null,
   "metadata": {},
   "outputs": [],
   "source": [
    "lista_restaurante_caradapio_3 = [[restaurante1, [[prato1, valor1, preparo1], [[prato2, valor2, preparo2]]], [retaurante2, ]]]"
   ]
  },
  {
   "cell_type": "code",
   "execution_count": 3,
   "metadata": {},
   "outputs": [
    {
     "data": {
      "text/plain": [
       "['restaurante1', 'r1c1', 'r1c2', 'r1c3']"
      ]
     },
     "execution_count": 3,
     "metadata": {},
     "output_type": "execute_result"
    }
   ],
   "source": [
    "lista_restaurante_caradapio[0]"
   ]
  },
  {
   "cell_type": "code",
   "execution_count": 4,
   "metadata": {},
   "outputs": [
    {
     "data": {
      "text/plain": [
       "'restaurante1'"
      ]
     },
     "execution_count": 4,
     "metadata": {},
     "output_type": "execute_result"
    }
   ],
   "source": [
    "lista_restaurante_caradapio[0][0]"
   ]
  },
  {
   "cell_type": "code",
   "execution_count": 5,
   "metadata": {},
   "outputs": [
    {
     "data": {
      "text/plain": [
       "[['restaurante1', 'r1c1', 'r1c2', 'r1c3', 'r1c4'],\n",
       " ['restaurante2', 'r2c1', 'r2c2', 'r2c3'],\n",
       " ['restaurante3', 'r3c1', 'r3c2', 'r3c3']]"
      ]
     },
     "execution_count": 5,
     "metadata": {},
     "output_type": "execute_result"
    }
   ],
   "source": [
    "lista_restaurante_caradapio[0].append('r1c4')\n",
    "lista_restaurante_caradapio"
   ]
  },
  {
   "cell_type": "code",
   "execution_count": 6,
   "metadata": {},
   "outputs": [],
   "source": [
    "def busca_posicao_restaurante(nome_restaurante):\n",
    "    \n",
    "    i = 0\n",
    "\n",
    "    buscar_posicao_restaurante = True\n",
    "    \n",
    "    while buscar_posicao_restaurante:\n",
    "        \n",
    "        if lista_restaurante_caradapio[i][0] == nome_restaurante:\n",
    "                \n",
    "            buscar_posicao_restaurante = False\n",
    "\n",
    "            return i\n",
    "        \n",
    "        elif i == (len(lista_restaurante_caradapio)-1):\n",
    "            \n",
    "            buscar_posicao_restaurante == False\n",
    "            \n",
    "            return None\n",
    "        \n",
    "        i += 1\n",
    "\n",
    "    "
   ]
  },
  {
   "cell_type": "code",
   "execution_count": 7,
   "metadata": {},
   "outputs": [
    {
     "name": "stdout",
     "output_type": "stream",
     "text": [
      "2\n"
     ]
    }
   ],
   "source": [
    "x = busca_posicao_restaurante('restaurante3')\n",
    "print (x)"
   ]
  },
  {
   "cell_type": "code",
   "execution_count": 8,
   "metadata": {},
   "outputs": [
    {
     "name": "stdout",
     "output_type": "stream",
     "text": [
      "None\n"
     ]
    }
   ],
   "source": [
    "w = busca_posicao_restaurante('restaurante4')\n",
    "print (w)"
   ]
  },
  {
   "cell_type": "code",
   "execution_count": 9,
   "metadata": {},
   "outputs": [],
   "source": [
    "def busca_posicao_cardapio(nome_restaurante, nome_cardapio):\n",
    "    \n",
    "    i = 0\n",
    "\n",
    "    buscar_posicao_restaurante = True\n",
    "    \n",
    "    while buscar_posicao_restaurante:\n",
    "        \n",
    "        if lista_restaurante_caradapio[i][0] == nome_restaurante:\n",
    "                \n",
    "            buscar_posicao_restaurante = False\n",
    "            \n",
    "            posicao_restaurante = i\n",
    "\n",
    "        \n",
    "        i += 1\n",
    "    \n",
    "    j = 0\n",
    "\n",
    "    buscar_posicao_cardapio = True\n",
    "    \n",
    "    while buscar_posicao_cardapio:\n",
    "        \n",
    "        if  lista_restaurante_caradapio[posicao_restaurante][j] == nome_cardapio:\n",
    "            \n",
    "            buscar_posicao_cardapio = False\n",
    "\n",
    "            return j\n",
    "        \n",
    "        elif j == (len(lista_restaurante_caradapio[posicao_restaurante])-1):\n",
    "            \n",
    "            buscar_posicao_cardapio == False\n",
    "            \n",
    "            return None\n",
    "        \n",
    "        j += 1\n"
   ]
  },
  {
   "cell_type": "code",
   "execution_count": 10,
   "metadata": {},
   "outputs": [
    {
     "name": "stdout",
     "output_type": "stream",
     "text": [
      "4\n"
     ]
    }
   ],
   "source": [
    "y = busca_posicao_cardapio('restaurante1', 'r1c4')\n",
    "print (y)"
   ]
  },
  {
   "cell_type": "code",
   "execution_count": 11,
   "metadata": {},
   "outputs": [
    {
     "name": "stdout",
     "output_type": "stream",
     "text": [
      "None\n"
     ]
    }
   ],
   "source": [
    "z = busca_posicao_cardapio('restaurante1', 'r1c5')\n",
    "print (z)"
   ]
  },
  {
   "cell_type": "code",
   "execution_count": 13,
   "metadata": {},
   "outputs": [],
   "source": [
    "def inserir_restaurante(nome_do_restaurante):\n",
    "    \n",
    "    posicao_restaurante = busca_posicao_restaurante(nome_do_restaurante)\n",
    "\n",
    "    if posicao_restaurante == None:\n",
    "        \n",
    "        lista_restaurante_caradapio.append([nome_do_restaurante])\n",
    "\n",
    "        print(f\"Restaurante {nome_do_restaurante} cadastrado\")\n",
    "\n",
    "    else:\n",
    "        \n",
    "        print(f\"Restaurante {nome_do_restaurante} já está cadastrado\")"
   ]
  },
  {
   "cell_type": "code",
   "execution_count": 14,
   "metadata": {},
   "outputs": [
    {
     "name": "stdout",
     "output_type": "stream",
     "text": [
      "Restaurante restaurante4 cadastrado\n"
     ]
    },
    {
     "data": {
      "text/plain": [
       "[['restaurante1', 'r1c1', 'r1c2', 'r1c3', 'r1c4'],\n",
       " ['restaurante2', 'r2c1', 'r2c2', 'r2c3'],\n",
       " ['restaurante3', 'r3c1', 'r3c2', 'r3c3'],\n",
       " ['restaurante4']]"
      ]
     },
     "execution_count": 14,
     "metadata": {},
     "output_type": "execute_result"
    }
   ],
   "source": [
    "inserir_restaurante('restaurante4')\n",
    "lista_restaurante_caradapio"
   ]
  },
  {
   "cell_type": "code",
   "execution_count": 15,
   "metadata": {},
   "outputs": [
    {
     "name": "stdout",
     "output_type": "stream",
     "text": [
      "Restaurante restaurante3 já está cadastrado\n"
     ]
    }
   ],
   "source": [
    "inserir_restaurante('restaurante3')"
   ]
  },
  {
   "cell_type": "code",
   "execution_count": 16,
   "metadata": {},
   "outputs": [
    {
     "data": {
      "text/plain": [
       "[['restaurante1', 'r1c1', 'r1c2', 'r1c3', 'r1c4'],\n",
       " ['restaurante2', 'r2c1', 'r2c2', 'r2c3'],\n",
       " ['restaurante3', 'r3c1', 'r3c2', 'r3c3'],\n",
       " ['restaurante4']]"
      ]
     },
     "execution_count": 16,
     "metadata": {},
     "output_type": "execute_result"
    }
   ],
   "source": [
    "lista_restaurante_caradapio"
   ]
  },
  {
   "cell_type": "code",
   "execution_count": 17,
   "metadata": {},
   "outputs": [
    {
     "ename": "IndexError",
     "evalue": "list index out of range",
     "output_type": "error",
     "traceback": [
      "\u001b[0;31m---------------------------------------------------------------------------\u001b[0m",
      "\u001b[0;31mIndexError\u001b[0m                                Traceback (most recent call last)",
      "Cell \u001b[0;32mIn[17], line 1\u001b[0m\n\u001b[0;32m----> 1\u001b[0m lista_restaurante_caradapio[\u001b[39m3\u001b[39;49m][\u001b[39m1\u001b[39;49m]\n",
      "\u001b[0;31mIndexError\u001b[0m: list index out of range"
     ]
    }
   ],
   "source": [
    "lista_restaurante_caradapio[3][1]"
   ]
  },
  {
   "cell_type": "code",
   "execution_count": 18,
   "metadata": {},
   "outputs": [
    {
     "data": {
      "text/plain": [
       "1"
      ]
     },
     "execution_count": 18,
     "metadata": {},
     "output_type": "execute_result"
    }
   ],
   "source": [
    "len(lista_restaurante_caradapio[3])"
   ]
  },
  {
   "cell_type": "code",
   "execution_count": 19,
   "metadata": {},
   "outputs": [],
   "source": [
    "#melhorar, ver detalhes do código já implentedado.\n",
    "def atualizar_dados_cardapio(nome_do_restaurante, nome_cardapio):\n",
    "    print(f\"Cardápio {nome_cardapio} do restaurante {nome_do_restaurante} está atualizado.\")\n"
   ]
  },
  {
   "cell_type": "code",
   "execution_count": 20,
   "metadata": {},
   "outputs": [
    {
     "name": "stdout",
     "output_type": "stream",
     "text": [
      "Cardápio b do restaurante a está atualizado.\n"
     ]
    }
   ],
   "source": [
    "\n",
    "atualizar_dados_cardapio('a', 'b')"
   ]
  },
  {
   "cell_type": "code",
   "execution_count": 21,
   "metadata": {},
   "outputs": [],
   "source": [
    "def inserir_cardapio(nome_do_restaurante, nome_cardapio):\n",
    "\n",
    "    posicao_restaurante = busca_posicao_restaurante(nome_do_restaurante)\n",
    "    \n",
    "    \n",
    "    if (posicao_restaurante == None):\n",
    "        \n",
    "        print(f\"Cadastrar restaurante {nome_do_restaurante}.\")\n",
    "\n",
    "    else:\n",
    "        \n",
    "        posicao_cardapio = busca_posicao_cardapio(nome_do_restaurante, nome_cardapio)\n",
    "\n",
    "        if (posicao_cardapio == None):\n",
    "                \n",
    "                lista_restaurante_caradapio[posicao_restaurante].append(nome_cardapio)\n",
    "\n",
    "                print(f\"Cardápio {nome_cardapio} adicionado no restaurante {nome_do_restaurante}.\")\n",
    "\n",
    "                # Função Myrna, verificar\n",
    "        \n",
    "        else:\n",
    "                        \n",
    "            atualizar_dados_cardapio(nome_do_restaurante, nome_cardapio)"
   ]
  },
  {
   "cell_type": "code",
   "execution_count": 22,
   "metadata": {},
   "outputs": [
    {
     "data": {
      "text/plain": [
       "[['restaurante1', 'r1c1', 'r1c2', 'r1c3', 'r1c4'],\n",
       " ['restaurante2', 'r2c1', 'r2c2', 'r2c3'],\n",
       " ['restaurante3', 'r3c1', 'r3c2', 'r3c3'],\n",
       " ['restaurante4']]"
      ]
     },
     "execution_count": 22,
     "metadata": {},
     "output_type": "execute_result"
    }
   ],
   "source": [
    "lista_restaurante_caradapio"
   ]
  },
  {
   "cell_type": "code",
   "execution_count": 23,
   "metadata": {},
   "outputs": [
    {
     "name": "stdout",
     "output_type": "stream",
     "text": [
      "Cardápio r4c1 adicionado no restaurante restaurante4.\n"
     ]
    }
   ],
   "source": [
    "inserir_cardapio('restaurante4', 'r4c1')"
   ]
  },
  {
   "cell_type": "code",
   "execution_count": 24,
   "metadata": {},
   "outputs": [
    {
     "name": "stdout",
     "output_type": "stream",
     "text": [
      "Cardápio r3c1 do restaurante restaurante3 está atualizado.\n"
     ]
    }
   ],
   "source": [
    "inserir_cardapio('restaurante3', 'r3c1')"
   ]
  },
  {
   "cell_type": "code",
   "execution_count": 25,
   "metadata": {},
   "outputs": [
    {
     "name": "stdout",
     "output_type": "stream",
     "text": [
      "Cadastrar restaurante restaurante5.\n"
     ]
    }
   ],
   "source": [
    "inserir_cardapio('restaurante5', 'r5c1')"
   ]
  },
  {
   "cell_type": "code",
   "execution_count": 26,
   "metadata": {},
   "outputs": [
    {
     "name": "stdout",
     "output_type": "stream",
     "text": [
      "None\n"
     ]
    }
   ],
   "source": [
    "print(busca_posicao_restaurante('restaurante5'))"
   ]
  },
  {
   "cell_type": "code",
   "execution_count": 27,
   "metadata": {},
   "outputs": [],
   "source": [
    "def excluir_restaurante(nome_do_restaurante):\n",
    "     \n",
    "    posicao_restaurante = busca_posicao_restaurante(nome_do_restaurante)\n",
    "\n",
    "    if posicao_restaurante == None:\n",
    "\n",
    "        print(f\"Restaurante {nome_do_restaurante} não encontrado.\")\n",
    "\n",
    "    else:\n",
    "        \n",
    "        lista_restaurante_caradapio.pop(posicao_restaurante)\n",
    "        \n",
    "        print(f\"Restaurante {nome_do_restaurante} excluído\")"
   ]
  },
  {
   "cell_type": "code",
   "execution_count": 28,
   "metadata": {},
   "outputs": [
    {
     "data": {
      "text/plain": [
       "[['restaurante1', 'r1c1', 'r1c2', 'r1c3', 'r1c4'],\n",
       " ['restaurante2', 'r2c1', 'r2c2', 'r2c3'],\n",
       " ['restaurante3', 'r3c1', 'r3c2', 'r3c3'],\n",
       " ['restaurante4', 'r4c1']]"
      ]
     },
     "execution_count": 28,
     "metadata": {},
     "output_type": "execute_result"
    }
   ],
   "source": [
    "lista_restaurante_caradapio"
   ]
  },
  {
   "cell_type": "code",
   "execution_count": 29,
   "metadata": {},
   "outputs": [
    {
     "name": "stdout",
     "output_type": "stream",
     "text": [
      "Restaurante restaurante4 excluído\n"
     ]
    },
    {
     "data": {
      "text/plain": [
       "[['restaurante1', 'r1c1', 'r1c2', 'r1c3', 'r1c4'],\n",
       " ['restaurante2', 'r2c1', 'r2c2', 'r2c3'],\n",
       " ['restaurante3', 'r3c1', 'r3c2', 'r3c3']]"
      ]
     },
     "execution_count": 29,
     "metadata": {},
     "output_type": "execute_result"
    }
   ],
   "source": [
    "excluir_restaurante('restaurante4')\n",
    "lista_restaurante_caradapio"
   ]
  },
  {
   "cell_type": "code",
   "execution_count": 30,
   "metadata": {},
   "outputs": [
    {
     "name": "stdout",
     "output_type": "stream",
     "text": [
      "Restaurante restaurante5 não encontrado.\n"
     ]
    },
    {
     "data": {
      "text/plain": [
       "[['restaurante1', 'r1c1', 'r1c2', 'r1c3', 'r1c4'],\n",
       " ['restaurante2', 'r2c1', 'r2c2', 'r2c3'],\n",
       " ['restaurante3', 'r3c1', 'r3c2', 'r3c3']]"
      ]
     },
     "execution_count": 30,
     "metadata": {},
     "output_type": "execute_result"
    }
   ],
   "source": [
    "excluir_restaurante('restaurante5')\n",
    "lista_restaurante_caradapio"
   ]
  },
  {
   "cell_type": "code",
   "execution_count": 31,
   "metadata": {},
   "outputs": [],
   "source": [
    "def excluir_cardapio(nome_do_restaurante, nome_cardapio):\n",
    "    \n",
    "    posicao_restaurante = busca_posicao_restaurante(nome_do_restaurante)\n",
    "\n",
    "    if (posicao_restaurante == None):\n",
    "        \n",
    "        print(f\"Restaurante {nome_do_restaurante} não encontrado.\")\n",
    "\n",
    "    else:\n",
    "\n",
    "        posicao_cardapio = busca_posicao_cardapio(nome_do_restaurante, nome_cardapio)\n",
    "\n",
    "        if (posicao_cardapio == None):\n",
    "\n",
    "            print(f\"Cardápio {nome_cardapio} do Restaurante {nome_do_restaurante} não encontrado.\")\n",
    "\n",
    "        else:\n",
    "\n",
    "            lista_restaurante_caradapio[posicao_restaurante].pop(posicao_cardapio)\n",
    "        \n",
    "            print(f\"Cardápio {nome_cardapio} do Restaurante {nome_do_restaurante} excluído.\")"
   ]
  },
  {
   "cell_type": "code",
   "execution_count": 32,
   "metadata": {},
   "outputs": [
    {
     "data": {
      "text/plain": [
       "[['restaurante1', 'r1c1', 'r1c2', 'r1c3', 'r1c4'],\n",
       " ['restaurante2', 'r2c1', 'r2c2', 'r2c3'],\n",
       " ['restaurante3', 'r3c1', 'r3c2', 'r3c3']]"
      ]
     },
     "execution_count": 32,
     "metadata": {},
     "output_type": "execute_result"
    }
   ],
   "source": [
    "lista_restaurante_caradapio"
   ]
  },
  {
   "cell_type": "code",
   "execution_count": 33,
   "metadata": {},
   "outputs": [
    {
     "name": "stdout",
     "output_type": "stream",
     "text": [
      "Cardápio r3c3 do Restaurante restaurante3 excluído.\n"
     ]
    },
    {
     "data": {
      "text/plain": [
       "[['restaurante1', 'r1c1', 'r1c2', 'r1c3', 'r1c4'],\n",
       " ['restaurante2', 'r2c1', 'r2c2', 'r2c3'],\n",
       " ['restaurante3', 'r3c1', 'r3c2']]"
      ]
     },
     "execution_count": 33,
     "metadata": {},
     "output_type": "execute_result"
    }
   ],
   "source": [
    "excluir_cardapio('restaurante3', 'r3c3')\n",
    "lista_restaurante_caradapio"
   ]
  },
  {
   "cell_type": "code",
   "execution_count": 34,
   "metadata": {},
   "outputs": [
    {
     "name": "stdout",
     "output_type": "stream",
     "text": [
      "Cardápio r3c3 do Restaurante restaurante3 não encontrado.\n"
     ]
    },
    {
     "data": {
      "text/plain": [
       "[['restaurante1', 'r1c1', 'r1c2', 'r1c3', 'r1c4'],\n",
       " ['restaurante2', 'r2c1', 'r2c2', 'r2c3'],\n",
       " ['restaurante3', 'r3c1', 'r3c2']]"
      ]
     },
     "execution_count": 34,
     "metadata": {},
     "output_type": "execute_result"
    }
   ],
   "source": [
    "excluir_cardapio('restaurante3', 'r3c3')\n",
    "lista_restaurante_caradapio"
   ]
  },
  {
   "cell_type": "code",
   "execution_count": 35,
   "metadata": {},
   "outputs": [
    {
     "name": "stdout",
     "output_type": "stream",
     "text": [
      "Restaurante restaurante4 não encontrado.\n"
     ]
    },
    {
     "data": {
      "text/plain": [
       "[['restaurante1', 'r1c1', 'r1c2', 'r1c3', 'r1c4'],\n",
       " ['restaurante2', 'r2c1', 'r2c2', 'r2c3'],\n",
       " ['restaurante3', 'r3c1', 'r3c2']]"
      ]
     },
     "execution_count": 35,
     "metadata": {},
     "output_type": "execute_result"
    }
   ],
   "source": [
    "excluir_cardapio('restaurante4', 'r3c3')\n",
    "lista_restaurante_caradapio"
   ]
  }
 ],
 "metadata": {
  "kernelspec": {
   "display_name": "Python 3",
   "language": "python",
   "name": "python3"
  },
  "language_info": {
   "codemirror_mode": {
    "name": "ipython",
    "version": 3
   },
   "file_extension": ".py",
   "mimetype": "text/x-python",
   "name": "python",
   "nbconvert_exporter": "python",
   "pygments_lexer": "ipython3",
   "version": "3.11.3"
  },
  "orig_nbformat": 4
 },
 "nbformat": 4,
 "nbformat_minor": 2
}
